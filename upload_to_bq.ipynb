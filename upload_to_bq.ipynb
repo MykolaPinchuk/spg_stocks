{
 "cells": [
  {
   "cell_type": "code",
   "execution_count": 7,
   "id": "aedffc95-61dc-4fbb-be44-c0036e99a0e3",
   "metadata": {},
   "outputs": [
    {
     "name": "stderr",
     "output_type": "stream",
     "text": [
      "100%|██████████| 1/1 [00:00<00:00, 3708.49it/s]\n"
     ]
    }
   ],
   "source": [
    "import pandas as pd\n",
    "import pandas_gbq\n",
    "\n",
    "project_id = 'valid-heuristic-369117'\n",
    "bucket_path = 'gs://pmykola-streaming-projects/spg-stocks/artifacts/performance-data/'\n",
    "table_id = 'spg_stocks.daily_performance'\n",
    "\n",
    "df = pd.read_csv(bucket_path + 'm1_performance_2022127_pull_time_12_8_15:57:17.csv', index_col = [0])\n",
    "df\n",
    "\n",
    "pandas_gbq.to_gbq(df, table_id, project_id=project_id, if_exists='append')"
   ]
  },
  {
   "cell_type": "code",
   "execution_count": null,
   "id": "70420c8f-4ca2-4d24-a1a3-7dd0425564a6",
   "metadata": {},
   "outputs": [],
   "source": []
  }
 ],
 "metadata": {
  "environment": {
   "kernel": "python3",
   "name": "common-cpu.m100",
   "type": "gcloud",
   "uri": "gcr.io/deeplearning-platform-release/base-cpu:m100"
  },
  "kernelspec": {
   "display_name": "Python 3",
   "language": "python",
   "name": "python3"
  },
  "language_info": {
   "codemirror_mode": {
    "name": "ipython",
    "version": 3
   },
   "file_extension": ".py",
   "mimetype": "text/x-python",
   "name": "python",
   "nbconvert_exporter": "python",
   "pygments_lexer": "ipython3",
   "version": "3.7.12"
  }
 },
 "nbformat": 4,
 "nbformat_minor": 5
}
